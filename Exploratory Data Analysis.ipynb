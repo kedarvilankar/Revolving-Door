{
 "cells": [
  {
   "cell_type": "code",
   "execution_count": 1,
   "metadata": {},
   "outputs": [],
   "source": [
    "import pandas as pd\n",
    "import datetime as dt\n",
    "import matplotlib.pyplot as plt\n",
    "import numpy as np\n",
    "import math\n",
    "from sklearn.ensemble import RandomForestClassifier\n",
    "from sklearn.preprocessing import OneHotEncoder, StandardScaler, MinMaxScaler\n",
    "import seaborn as sns"
   ]
  },
  {
   "cell_type": "code",
   "execution_count": 2,
   "metadata": {},
   "outputs": [],
   "source": [
    "# Read dataset\n",
    "df = pd.read_csv('data/employee_retention.csv')\n",
    "df = df.drop(columns=['idx'])"
   ]
  },
  {
   "cell_type": "code",
   "execution_count": 21,
   "metadata": {},
   "outputs": [
    {
     "data": {
      "text/html": [
       "<div>\n",
       "<style scoped>\n",
       "    .dataframe tbody tr th:only-of-type {\n",
       "        vertical-align: middle;\n",
       "    }\n",
       "\n",
       "    .dataframe tbody tr th {\n",
       "        vertical-align: top;\n",
       "    }\n",
       "\n",
       "    .dataframe thead th {\n",
       "        text-align: right;\n",
       "    }\n",
       "</style>\n",
       "<table border=\"1\" class=\"dataframe\">\n",
       "  <thead>\n",
       "    <tr style=\"text-align: right;\">\n",
       "      <th></th>\n",
       "      <th>employee_id</th>\n",
       "      <th>company_id</th>\n",
       "      <th>dept</th>\n",
       "      <th>seniority</th>\n",
       "      <th>salary</th>\n",
       "      <th>join_date</th>\n",
       "      <th>quit_date</th>\n",
       "      <th>join_year</th>\n",
       "      <th>quit_year</th>\n",
       "      <th>days_employed</th>\n",
       "      <th>quit</th>\n",
       "    </tr>\n",
       "  </thead>\n",
       "  <tbody>\n",
       "    <tr>\n",
       "      <th>0</th>\n",
       "      <td>1001444</td>\n",
       "      <td>8</td>\n",
       "      <td>temp_contractor</td>\n",
       "      <td>0</td>\n",
       "      <td>5850.0</td>\n",
       "      <td>2008-01-26</td>\n",
       "      <td>2008-04-25</td>\n",
       "      <td>2008</td>\n",
       "      <td>2008.0</td>\n",
       "      <td>90</td>\n",
       "      <td>1</td>\n",
       "    </tr>\n",
       "    <tr>\n",
       "      <th>1</th>\n",
       "      <td>388804</td>\n",
       "      <td>8</td>\n",
       "      <td>design</td>\n",
       "      <td>21</td>\n",
       "      <td>191000.0</td>\n",
       "      <td>2011-05-17</td>\n",
       "      <td>2012-03-16</td>\n",
       "      <td>2011</td>\n",
       "      <td>2012.0</td>\n",
       "      <td>304</td>\n",
       "      <td>1</td>\n",
       "    </tr>\n",
       "    <tr>\n",
       "      <th>2</th>\n",
       "      <td>407990</td>\n",
       "      <td>3</td>\n",
       "      <td>design</td>\n",
       "      <td>9</td>\n",
       "      <td>90000.0</td>\n",
       "      <td>2012-03-26</td>\n",
       "      <td>2015-04-10</td>\n",
       "      <td>2012</td>\n",
       "      <td>2015.0</td>\n",
       "      <td>1110</td>\n",
       "      <td>1</td>\n",
       "    </tr>\n",
       "    <tr>\n",
       "      <th>3</th>\n",
       "      <td>120657</td>\n",
       "      <td>2</td>\n",
       "      <td>engineer</td>\n",
       "      <td>20</td>\n",
       "      <td>298000.0</td>\n",
       "      <td>2013-04-08</td>\n",
       "      <td>2015-01-30</td>\n",
       "      <td>2013</td>\n",
       "      <td>2015.0</td>\n",
       "      <td>662</td>\n",
       "      <td>1</td>\n",
       "    </tr>\n",
       "    <tr>\n",
       "      <th>4</th>\n",
       "      <td>1006393</td>\n",
       "      <td>1</td>\n",
       "      <td>temp_contractor</td>\n",
       "      <td>0</td>\n",
       "      <td>8509.0</td>\n",
       "      <td>2008-07-20</td>\n",
       "      <td>2008-10-18</td>\n",
       "      <td>2008</td>\n",
       "      <td>2008.0</td>\n",
       "      <td>90</td>\n",
       "      <td>1</td>\n",
       "    </tr>\n",
       "  </tbody>\n",
       "</table>\n",
       "</div>"
      ],
      "text/plain": [
       "   employee_id  company_id             dept  seniority    salary  join_date  \\\n",
       "0      1001444           8  temp_contractor          0    5850.0 2008-01-26   \n",
       "1       388804           8           design         21  191000.0 2011-05-17   \n",
       "2       407990           3           design          9   90000.0 2012-03-26   \n",
       "3       120657           2         engineer         20  298000.0 2013-04-08   \n",
       "4      1006393           1  temp_contractor          0    8509.0 2008-07-20   \n",
       "\n",
       "   quit_date  join_year  quit_year  days_employed  quit  \n",
       "0 2008-04-25       2008     2008.0             90     1  \n",
       "1 2012-03-16       2011     2012.0            304     1  \n",
       "2 2015-04-10       2012     2015.0           1110     1  \n",
       "3 2015-01-30       2013     2015.0            662     1  \n",
       "4 2008-10-18       2008     2008.0             90     1  "
      ]
     },
     "execution_count": 21,
     "metadata": {},
     "output_type": "execute_result"
    }
   ],
   "source": [
    "df.head()"
   ]
  },
  {
   "cell_type": "code",
   "execution_count": 5,
   "metadata": {},
   "outputs": [],
   "source": [
    "# convert dates to datetime object\n",
    "df['join_date'] = pd.to_datetime(df['join_date'])\n",
    "df['quit_date'] = pd.to_datetime(df['quit_date'])"
   ]
  },
  {
   "cell_type": "code",
   "execution_count": 7,
   "metadata": {},
   "outputs": [],
   "source": [
    "# function to compute number of days an employee is employed . \n",
    "#If an employee has not quit then Jan 01, 2016 (last date in the dataset) is considered to be the  current date.\n",
    "def get_employed(row):\n",
    "    date_time_str = 'Jan 01 2016'\n",
    "    date_time_obj = dt.datetime.strptime(date_time_str, '%b %d %Y')\n",
    "    if math.isnan(row['quit_year']):\n",
    "        return (date_time_obj- row['join_date']).days\n",
    "    else:\n",
    "        return (row['quit_date']- row['join_date']).days"
   ]
  },
  {
   "cell_type": "code",
   "execution_count": 8,
   "metadata": {},
   "outputs": [
    {
     "name": "stdout",
     "output_type": "stream",
     "text": [
      "<class 'pandas.core.frame.DataFrame'>\n",
      "RangeIndex: 34702 entries, 0 to 34701\n",
      "Data columns (total 11 columns):\n",
      " #   Column         Non-Null Count  Dtype         \n",
      "---  ------         --------------  -----         \n",
      " 0   employee_id    34702 non-null  int64         \n",
      " 1   company_id     34702 non-null  int64         \n",
      " 2   dept           34702 non-null  object        \n",
      " 3   seniority      34702 non-null  int64         \n",
      " 4   salary         34463 non-null  float64       \n",
      " 5   join_date      34702 non-null  datetime64[ns]\n",
      " 6   quit_date      23510 non-null  datetime64[ns]\n",
      " 7   join_year      34702 non-null  int64         \n",
      " 8   quit_year      23510 non-null  float64       \n",
      " 9   days_employed  34702 non-null  int64         \n",
      " 10  quit           34702 non-null  int32         \n",
      "dtypes: datetime64[ns](2), float64(2), int32(1), int64(5), object(1)\n",
      "memory usage: 2.8+ MB\n"
     ]
    }
   ],
   "source": [
    "# create new features join_year and quit_year, dayes employed and quit (0 for still employed and 1 for quit)\n",
    "df['join_year'] = df['join_date'].dt.year\n",
    "df['quit_year'] = df['quit_date'].dt.year\n",
    "\n",
    "df['days_employed']=df.apply(lambda row: get_employed(row),axis=1) \n",
    "\n",
    "df['quit'] = ~df['quit_date'].isnull()*1\n",
    "df.info()"
   ]
  },
  {
   "cell_type": "code",
   "execution_count": 14,
   "metadata": {},
   "outputs": [
    {
     "data": {
      "text/plain": [
       "array([1, 0], dtype=int32)"
      ]
     },
     "execution_count": 14,
     "metadata": {},
     "output_type": "execute_result"
    }
   ],
   "source": [
    "df['quit'].unique()"
   ]
  },
  {
   "cell_type": "code",
   "execution_count": 15,
   "metadata": {},
   "outputs": [
    {
     "name": "stdout",
     "output_type": "stream",
     "text": [
      "Till date 0.677483 employees quit\n"
     ]
    }
   ],
   "source": [
    "print('Till date %f employees quit' %(df['quit'].mean()))"
   ]
  },
  {
   "cell_type": "code",
   "execution_count": 18,
   "metadata": {},
   "outputs": [],
   "source": [
    "# Helper function to plot stacked bar plot\n",
    "def plot_stacked_bar_plot(x,y1,y2,width,label1, label2, xlabel, ylabel):\n",
    "    fig, ax = plt.subplots()\n",
    "    rects1 = ax.bar(x - width/2, y1, width, label=label1)\n",
    "    rects2 = ax.bar(x + width/2, y2, width, label=label2)\n",
    "    ax.set_ylabel(ylabel)\n",
    "    ax.set_xlabel(xlabel)\n",
    "    ax.legend()"
   ]
  },
  {
   "cell_type": "code",
   "execution_count": 19,
   "metadata": {},
   "outputs": [
    {
     "data": {
      "image/png": "[encoded data removed]",
      "text/plain": [
       "<Figure size 432x288 with 1 Axes>"
      ]
     },
     "metadata": {
      "needs_background": "light"
     },
     "output_type": "display_data"
    },
    {
     "data": {
      "image/png": "[encoded data removed]",
      "text/plain": [
       "<Figure size 432x288 with 1 Axes>"
      ]
     },
     "metadata": {
      "needs_background": "light"
     },
     "output_type": "display_data"
    }
   ],
   "source": [
    "# plot number of employees who quit or join every year\n",
    "df_group_quit_year = df.groupby('quit_year').count()\n",
    "df_group_quit_year = df_group_quit_year.reset_index()\n",
    "\n",
    "df_group_join_year = df.groupby('join_year').count()\n",
    "df_group_join_year = df_group_join_year.reset_index()\n",
    "\n",
    "x = df_group_quit_year['quit_year']\n",
    "width = 0.35\n",
    "plot_stacked_bar_plot(x,df_group_quit_year['quit'].values, \n",
    "                      df_group_join_year['join_date'].values, width,\n",
    "                      'quit','join','Year','Number of Employees')"
   ]
  },
  {
   "cell_type": "code",
   "execution_count": null,
   "metadata": {},
   "outputs": [],
   "source": [
    "company_ids = df['company_id'].unique()\n",
    "df_by_company = {}\n",
    "for id in company_ids:\n",
    "    df_by_company[id] = df[df['company_id']==id]"
   ]
  }
 ],
 "metadata": {
  "kernelspec": {
   "display_name": "Python 3",
   "language": "python",
   "name": "python3"
  },
  "language_info": {
   "codemirror_mode": {
    "name": "ipython",
    "version": 3
   },
   "file_extension": ".py",
   "mimetype": "text/x-python",
   "name": "python",
   "nbconvert_exporter": "python",
   "pygments_lexer": "ipython3",
   "version": "3.7.4"
  }
 },
 "nbformat": 4,
 "nbformat_minor": 4
}
